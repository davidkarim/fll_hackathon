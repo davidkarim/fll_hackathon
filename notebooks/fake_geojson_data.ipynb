{
 "cells": [
  {
   "cell_type": "code",
   "execution_count": 218,
   "metadata": {
    "collapsed": true
   },
   "outputs": [],
   "source": [
    "from itertools import chain\n",
    "import logging\n",
    "import random\n",
    "import json\n",
    "import os"
   ]
  },
  {
   "cell_type": "code",
   "execution_count": 219,
   "metadata": {
    "collapsed": true
   },
   "outputs": [],
   "source": [
    "from faker import Faker"
   ]
  },
  {
   "cell_type": "code",
   "execution_count": 220,
   "metadata": {
    "collapsed": true
   },
   "outputs": [],
   "source": [
    "DATA_COUNT = 100"
   ]
  },
  {
   "cell_type": "code",
   "execution_count": 221,
   "metadata": {
    "collapsed": true
   },
   "outputs": [],
   "source": [
    "DEFAULT_ICON = 'star'"
   ]
  },
  {
   "cell_type": "code",
   "execution_count": 222,
   "metadata": {
    "collapsed": false
   },
   "outputs": [],
   "source": [
    "filepath = '/home/dmmmd/Dropbox/fll-hackathon/notebooks/flask-app/coffee/data.coffee'\n",
    "directory = os.path.dirname(filepath)\n",
    "assert os.path.exists(directory)"
   ]
  },
  {
   "cell_type": "code",
   "execution_count": 223,
   "metadata": {
    "collapsed": false
   },
   "outputs": [
    {
     "name": "stderr",
     "output_type": "stream",
     "text": [
      "The logger is working.\n"
     ]
    }
   ],
   "source": [
    "logger = logging.getLogger(__name__)\n",
    "# supercedes handler level\n",
    "# if this level is lower than handler messages don't get through\n",
    "logger.setLevel(logging.DEBUG)\n",
    "\n",
    "# seems IPthon adds a stream handler. Might as well use it.\n",
    "stream_handler = logger.handlers.pop(0) \\\n",
    "    if logger.handlers else logging.StreamHandler()\n",
    "stream_handler.setLevel(logging.DEBUG)\n",
    "logger.addHandler(stream_handler)\n",
    "logger.debug(\"The logger is working.\")"
   ]
  },
  {
   "cell_type": "code",
   "execution_count": 224,
   "metadata": {
    "collapsed": false
   },
   "outputs": [],
   "source": [
    "(\n",
    "    CR,\n",
    "    DELIMITER,\n",
    "    COMMA,\n",
    "    SPACE,\n",
    "    LAST,\n",
    "    FIRST,\n",
    "    PENULTIMATE,\n",
    ") = (\n",
    "    '\\n',\n",
    "    '||',\n",
    "    ',',\n",
    "    ' ',\n",
    "    -1,\n",
    "    0,\n",
    "    -2,\n",
    ")\n",
    "COMMA_SPACE = ''.join((COMMA, SPACE))"
   ]
  },
  {
   "cell_type": "markdown",
   "metadata": {},
   "source": [
    "# across hemispheres\n",
    "\n",
    "I drew a box around US at http://geojson.io to get coordinates."
   ]
  },
  {
   "cell_type": "code",
   "execution_count": 225,
   "metadata": {
    "collapsed": false
   },
   "outputs": [
    {
     "name": "stderr",
     "output_type": "stream",
     "text": [
      "[-80.17684936523438, -80.09994506835938, 26.06110078617974, 26.141569629097454]\n"
     ]
    }
   ],
   "source": [
    "# city of Ft. Lauderdale\n",
    "# drew a box around US at http://geojson.io/#map=3/24.37/-87.89 to get coordinates\n",
    "# adjust the bounding box to suit\n",
    "bounding_box = [\n",
    "    [\n",
    "      -80.17684936523438,\n",
    "      26.06110078617974\n",
    "    ],\n",
    "    [\n",
    "      -80.17684936523438,\n",
    "      26.141569629097454\n",
    "    ],\n",
    "    [\n",
    "      -80.09994506835938,\n",
    "      26.141569629097454\n",
    "    ],\n",
    "    [\n",
    "      -80.09994506835938,\n",
    "      26.06110078617974\n",
    "    ],\n",
    "    [\n",
    "      -80.17684936523438,\n",
    "      26.06110078617974\n",
    "    ]\n",
    "]\n",
    "        \n",
    "\n",
    "# drew a box around US at http://geojson.io/#map=3/24.37/-87.89 to get coordinates\n",
    "# adjust the bounding box to change the lng, lat max, min\n",
    "# THIS FAILS WITH EASTERN HEMISPHERE\n",
    "boundaries = list(set(chain(*bounding_box)))\n",
    "min_lng, max_lng, min_lat, max_lat = boundaries\n",
    "logger.debug(boundaries)"
   ]
  },
  {
   "cell_type": "code",
   "execution_count": 226,
   "metadata": {
    "collapsed": true
   },
   "outputs": [],
   "source": [
    "# floating point range\n",
    "# built-in range does not accept floats\n",
    "# use case for numpy! (I now I have reason to try it.)\n",
    "def frange(minimum, maximum, stp=0.01):\n",
    "  i = minimum + stp / 2.0\n",
    "  while i < maximum:\n",
    "    yield minimum\n",
    "    minimum += stp\n",
    "    i += stp"
   ]
  },
  {
   "cell_type": "code",
   "execution_count": 227,
   "metadata": {
    "collapsed": false
   },
   "outputs": [],
   "source": [
    "def get_random_coordinate(max_lng=max_lng, min_lng=min_lng, max_lat=max_lat, min_lat=min_lat):\n",
    "    # Negative Longitude is West. \n",
    "    # Negative Latitude is South.\n",
    "    coordinates = ([max_lng, min_lng], [max_lat, min_lat],)\n",
    "    for coordinate in coordinates:\n",
    "        coordinate.sort()\n",
    "    longitude, latitude = [\n",
    "        random.choice(list(frange(low, high)))\n",
    "        for low, high\n",
    "        in coordinates\n",
    "    ]\n",
    "    return longitude, latitude"
   ]
  },
  {
   "cell_type": "code",
   "execution_count": 228,
   "metadata": {
    "collapsed": false
   },
   "outputs": [
    {
     "data": {
      "text/plain": [
       "(-80.13684936523435, 26.091100786179744)"
      ]
     },
     "execution_count": 228,
     "metadata": {},
     "output_type": "execute_result"
    }
   ],
   "source": [
    "get_random_coordinate()"
   ]
  },
  {
   "cell_type": "code",
   "execution_count": 229,
   "metadata": {
    "collapsed": false
   },
   "outputs": [],
   "source": [
    "fake = Faker()\n",
    "# add a fake coordinates function to fake instance\n",
    "fake.coordinates = get_random_coordinate"
   ]
  },
  {
   "cell_type": "code",
   "execution_count": 230,
   "metadata": {
    "collapsed": false
   },
   "outputs": [
    {
     "data": {
      "text/plain": [
       "(-80.11684936523434, 26.12110078617975)"
      ]
     },
     "execution_count": 230,
     "metadata": {},
     "output_type": "execute_result"
    }
   ],
   "source": [
    "fake.coordinates()"
   ]
  },
  {
   "cell_type": "code",
   "execution_count": 231,
   "metadata": {
    "collapsed": false
   },
   "outputs": [],
   "source": [
    "fake_attrs = (\n",
    "    NAME, \n",
    "    COMPANY, \n",
    "    ADDRESS, \n",
    "    COORDINATES,\n",
    ") = (\n",
    "    'name', \n",
    "    'company', \n",
    "    'address', \n",
    "    'coordinates', \n",
    ")"
   ]
  },
  {
   "cell_type": "code",
   "execution_count": 232,
   "metadata": {
    "collapsed": false
   },
   "outputs": [],
   "source": [
    "address_keys = (\n",
    "    ADDRESSEE, \n",
    "    _, \n",
    "    STREET, \n",
    "    CITY, \n",
    "    STATE, \n",
    "    ZIPCODE, \n",
    "    _\n",
    ") = (\n",
    "    'addressee', \n",
    "    COMPANY, \n",
    "    'street', \n",
    "    'city', \n",
    "    'state', \n",
    "    'zipcode', \n",
    "    COORDINATES, \n",
    ")"
   ]
  },
  {
   "cell_type": "code",
   "execution_count": 233,
   "metadata": {
    "collapsed": true
   },
   "outputs": [],
   "source": [
    "# I know that def is preferred though these lambdas are simple one-liners\n",
    "handlers = (\n",
    "    lambda name: name,\n",
    "    lambda company: company,\n",
    "    lambda address: DELIMITER.join(getattr(address, 'split')(CR)),\n",
    "    lambda coordinates: coordinates,\n",
    ")"
   ]
  },
  {
   "cell_type": "code",
   "execution_count": 234,
   "metadata": {
    "collapsed": false
   },
   "outputs": [],
   "source": [
    "# sanity check to make sure handlers len matches fake_attrs len\n",
    "assert len(fake_attrs) == len(handlers)"
   ]
  },
  {
   "cell_type": "code",
   "execution_count": 235,
   "metadata": {
    "collapsed": true
   },
   "outputs": [],
   "source": [
    "handlers = dict(zip(fake_attrs, handlers))"
   ]
  },
  {
   "cell_type": "code",
   "execution_count": 236,
   "metadata": {
    "collapsed": false
   },
   "outputs": [],
   "source": [
    "def parse_address(attr):\n",
    "    faked_item = getattr(fake, attr)()\n",
    "    return handlers[attr](faked_item)"
   ]
  },
  {
   "cell_type": "code",
   "execution_count": 237,
   "metadata": {
    "collapsed": false
   },
   "outputs": [],
   "source": [
    "def get_address_parts(item):\n",
    "    try:\n",
    "        tokens = item.split(DELIMITER)\n",
    "    except AttributeError:\n",
    "        return (item, ) # to protect list item from chain, return sequence\n",
    "    if len(tokens) == 1:\n",
    "        return (item, )\n",
    "    address = tokens[FIRST]\n",
    "    city_state_zip = tokens[LAST].split(SPACE)\n",
    "    state, zip_code = [city_state_zip[position] for position in (PENULTIMATE, LAST)]\n",
    "    city = SPACE.join(city_state_zip[:PENULTIMATE]) # city may have more than 1 word so slice all but last 2\n",
    "    return address, city, state, zip_code"
   ]
  },
  {
   "cell_type": "code",
   "execution_count": 238,
   "metadata": {
    "collapsed": false
   },
   "outputs": [],
   "source": [
    "addresses = [dict(zip(\n",
    "                      address_keys, \n",
    "                      chain(*[get_address_parts(parse_address(attr)) \n",
    "                              for attr in fake_attrs])))\n",
    "             for _ in range(DATA_COUNT)]"
   ]
  },
  {
   "cell_type": "code",
   "execution_count": 239,
   "metadata": {
    "collapsed": false
   },
   "outputs": [
    {
     "data": {
      "text/plain": [
       "{'addressee': 'Jennifer Wright',\n",
       " 'city': 'Nicholasville,',\n",
       " 'company': 'Cox-Robinson',\n",
       " 'coordinates': (-80.14684936523436, 26.111100786179748),\n",
       " 'state': 'RI',\n",
       " 'street': '79259 Parker Keys',\n",
       " 'zipcode': '90748-0489'}"
      ]
     },
     "execution_count": 239,
     "metadata": {},
     "output_type": "execute_result"
    }
   ],
   "source": [
    "addresses[LAST]"
   ]
  },
  {
   "cell_type": "code",
   "execution_count": 240,
   "metadata": {
    "collapsed": true
   },
   "outputs": [],
   "source": [
    "(\n",
    "    FEATURECOLLECTION,\n",
    "    TYPE,\n",
    "    CRS,\n",
    "    NAME,\n",
    "    FEATURE,\n",
    "    FEATURES,\n",
    "    EMPLOYEE,\n",
    "    PROPERTIES,\n",
    "    GEOMETRY,\n",
    "    TITLE,\n",
    "    ICON,\n",
    "    POINT,\n",
    ") = (\n",
    "    'FeatureCollection',\n",
    "    'type',\n",
    "    'crs',\n",
    "    'name',\n",
    "    'feature'.title(),  # easier to notice, must be title\n",
    "    'features',\n",
    "    'employee',\n",
    "    'properties',\n",
    "    'geometry',\n",
    "    'title',\n",
    "    'icon',\n",
    "    'Point',\n",
    ")\n",
    "# I have no idea what this value means yet.\n",
    "CRS_DEFAULT = \"urn:ogc:def:crs:OGC:1.3:CRS84\""
   ]
  },
  {
   "cell_type": "code",
   "execution_count": 241,
   "metadata": {
    "collapsed": true
   },
   "outputs": [],
   "source": [
    "def get_template(coordinates, company, icon=DEFAULT_ICON):\n",
    "    root_keys = (TYPE, PROPERTIES, GEOMETRY)\n",
    "    property_keys, property_values = (\n",
    "        (TITLE, ICON, ), \n",
    "        (company, icon, ), \n",
    "    )\n",
    "    geometry_keys, geometry_values = (\n",
    "        (COORDINATES, TYPE, ), \n",
    "        (coordinates, POINT, ),\n",
    "    )\n",
    "    root_values = (\n",
    "        FEATURE, \n",
    "        dict(zip(property_keys, property_values)),\n",
    "        dict(zip(geometry_keys, geometry_values)),\n",
    "    )\n",
    "    return  dict(zip(root_keys, root_values))"
   ]
  },
  {
   "cell_type": "code",
   "execution_count": 242,
   "metadata": {
    "collapsed": true
   },
   "outputs": [],
   "source": [
    "# here for reference\n",
    "full_geojson_template = {\n",
    "    TYPE: FEATURECOLLECTION,\n",
    "    CRS: {\n",
    "        TYPE: NAME, \n",
    "        PROPERTIES: {\n",
    "            NAME: CRS_DEFAULT,\n",
    "        }\n",
    "    },\n",
    "    FEATURES: [],\n",
    "}"
   ]
  },
  {
   "cell_type": "code",
   "execution_count": null,
   "metadata": {
    "collapsed": true
   },
   "outputs": [],
   "source": [
    "[{'geometry': {'coordinates': (-58.276737496862296, 31.86743706380791),\n",
    "   'type': 'Point'},\n",
    "  'properties': {'icon': 'star', 'title': 'White, Nicholson and Boyle'},\n",
    "  'type': 'Feature'}]"
   ]
  },
  {
   "cell_type": "code",
   "execution_count": 243,
   "metadata": {
    "collapsed": false
   },
   "outputs": [
    {
     "data": {
      "text/plain": [
       "[{'geometry': {'coordinates': (-58.276737496862296, 31.86743706380791),\n",
       "   'type': 'Point'},\n",
       "  'properties': {'icon': 'star', 'title': 'White, Nicholson and Boyle'},\n",
       "  'type': 'Feature'}]"
      ]
     },
     "execution_count": 243,
     "metadata": {},
     "output_type": "execute_result"
    }
   ],
   "source": [
    "# example rendered features list of len 1\n",
    "[\n",
    "    {\n",
    "        'geometry': \n",
    "         {\n",
    "            'coordinates': (-58.276737496862296, 31.86743706380791), \n",
    "            'type': 'Point'\n",
    "        }, \n",
    "        # the properties value is accessible in certain MapBox GL JS layers\n",
    "        'properties': {\n",
    "            'icon': 'star', \n",
    "            'title': 'White, Nicholson and Boyle'}, \n",
    "            'type': 'Feature'\n",
    "    },\n",
    "]"
   ]
  },
  {
   "cell_type": "code",
   "execution_count": 244,
   "metadata": {
    "collapsed": false
   },
   "outputs": [],
   "source": [
    "features_data = [get_template(address[COORDINATES], address[COMPANY])\n",
    "                 for address in addresses]\n",
    "data_points = {\n",
    "    TYPE: FEATURECOLLECTION, \n",
    "    FEATURES: features_data,\n",
    "    CRS: {\n",
    "            TYPE: NAME, \n",
    "            PROPERTIES: {\n",
    "            NAME: CRS_DEFAULT\n",
    "        }\n",
    "    }  \n",
    "}"
   ]
  },
  {
   "cell_type": "code",
   "execution_count": 245,
   "metadata": {
    "collapsed": false
   },
   "outputs": [
    {
     "name": "stderr",
     "output_type": "stream",
     "text": [
      "dict_keys(['crs', 'features', 'type'])\n"
     ]
    }
   ],
   "source": [
    "logger.debug(data_points.keys())"
   ]
  },
  {
   "cell_type": "code",
   "execution_count": 246,
   "metadata": {
    "collapsed": false
   },
   "outputs": [],
   "source": [
    "# make it a variable\n",
    "data = ''.join(('geoJsonData = ', json.dumps(data_points)))"
   ]
  },
  {
   "cell_type": "code",
   "execution_count": 247,
   "metadata": {
    "collapsed": false
   },
   "outputs": [],
   "source": [
    "with open(filepath, 'w') as fh:\n",
    "    fh.write(data)"
   ]
  },
  {
   "cell_type": "code",
   "execution_count": 248,
   "metadata": {
    "collapsed": false
   },
   "outputs": [
    {
     "ename": "ValueError",
     "evalue": "Expecting value: line 1 column 1 (char 0)",
     "output_type": "error",
     "traceback": [
      "\u001b[0;31m---------------------------------------------------------------------------\u001b[0m",
      "\u001b[0;31mValueError\u001b[0m                                Traceback (most recent call last)",
      "\u001b[0;32m<ipython-input-248-309ac9b40f8c>\u001b[0m in \u001b[0;36m<module>\u001b[0;34m()\u001b[0m\n\u001b[1;32m      1\u001b[0m \u001b[0;32mwith\u001b[0m \u001b[0mopen\u001b[0m\u001b[0;34m(\u001b[0m\u001b[0mfilepath\u001b[0m\u001b[0;34m,\u001b[0m \u001b[0;34m'r'\u001b[0m\u001b[0;34m)\u001b[0m \u001b[0;32mas\u001b[0m \u001b[0mfh\u001b[0m\u001b[0;34m:\u001b[0m\u001b[0;34m\u001b[0m\u001b[0m\n\u001b[0;32m----> 2\u001b[0;31m     \u001b[0mdata\u001b[0m \u001b[0;34m=\u001b[0m \u001b[0mjson\u001b[0m\u001b[0;34m.\u001b[0m\u001b[0mload\u001b[0m\u001b[0;34m(\u001b[0m\u001b[0mfh\u001b[0m\u001b[0;34m)\u001b[0m\u001b[0;34m\u001b[0m\u001b[0m\n\u001b[0m",
      "\u001b[0;32m/usr/lib/python3.4/json/__init__.py\u001b[0m in \u001b[0;36mload\u001b[0;34m(fp, cls, object_hook, parse_float, parse_int, parse_constant, object_pairs_hook, **kw)\u001b[0m\n\u001b[1;32m    266\u001b[0m         \u001b[0mcls\u001b[0m\u001b[0;34m=\u001b[0m\u001b[0mcls\u001b[0m\u001b[0;34m,\u001b[0m \u001b[0mobject_hook\u001b[0m\u001b[0;34m=\u001b[0m\u001b[0mobject_hook\u001b[0m\u001b[0;34m,\u001b[0m\u001b[0;34m\u001b[0m\u001b[0m\n\u001b[1;32m    267\u001b[0m         \u001b[0mparse_float\u001b[0m\u001b[0;34m=\u001b[0m\u001b[0mparse_float\u001b[0m\u001b[0;34m,\u001b[0m \u001b[0mparse_int\u001b[0m\u001b[0;34m=\u001b[0m\u001b[0mparse_int\u001b[0m\u001b[0;34m,\u001b[0m\u001b[0;34m\u001b[0m\u001b[0m\n\u001b[0;32m--> 268\u001b[0;31m         parse_constant=parse_constant, object_pairs_hook=object_pairs_hook, **kw)\n\u001b[0m\u001b[1;32m    269\u001b[0m \u001b[0;34m\u001b[0m\u001b[0m\n\u001b[1;32m    270\u001b[0m \u001b[0;34m\u001b[0m\u001b[0m\n",
      "\u001b[0;32m/usr/lib/python3.4/json/__init__.py\u001b[0m in \u001b[0;36mloads\u001b[0;34m(s, encoding, cls, object_hook, parse_float, parse_int, parse_constant, object_pairs_hook, **kw)\u001b[0m\n\u001b[1;32m    316\u001b[0m             \u001b[0mparse_int\u001b[0m \u001b[0;32mis\u001b[0m \u001b[0;32mNone\u001b[0m \u001b[0;32mand\u001b[0m \u001b[0mparse_float\u001b[0m \u001b[0;32mis\u001b[0m \u001b[0;32mNone\u001b[0m \u001b[0;32mand\u001b[0m\u001b[0;34m\u001b[0m\u001b[0m\n\u001b[1;32m    317\u001b[0m             parse_constant is None and object_pairs_hook is None and not kw):\n\u001b[0;32m--> 318\u001b[0;31m         \u001b[0;32mreturn\u001b[0m \u001b[0m_default_decoder\u001b[0m\u001b[0;34m.\u001b[0m\u001b[0mdecode\u001b[0m\u001b[0;34m(\u001b[0m\u001b[0ms\u001b[0m\u001b[0;34m)\u001b[0m\u001b[0;34m\u001b[0m\u001b[0m\n\u001b[0m\u001b[1;32m    319\u001b[0m     \u001b[0;32mif\u001b[0m \u001b[0mcls\u001b[0m \u001b[0;32mis\u001b[0m \u001b[0;32mNone\u001b[0m\u001b[0;34m:\u001b[0m\u001b[0;34m\u001b[0m\u001b[0m\n\u001b[1;32m    320\u001b[0m         \u001b[0mcls\u001b[0m \u001b[0;34m=\u001b[0m \u001b[0mJSONDecoder\u001b[0m\u001b[0;34m\u001b[0m\u001b[0m\n",
      "\u001b[0;32m/usr/lib/python3.4/json/decoder.py\u001b[0m in \u001b[0;36mdecode\u001b[0;34m(self, s, _w)\u001b[0m\n\u001b[1;32m    341\u001b[0m \u001b[0;34m\u001b[0m\u001b[0m\n\u001b[1;32m    342\u001b[0m         \"\"\"\n\u001b[0;32m--> 343\u001b[0;31m         \u001b[0mobj\u001b[0m\u001b[0;34m,\u001b[0m \u001b[0mend\u001b[0m \u001b[0;34m=\u001b[0m \u001b[0mself\u001b[0m\u001b[0;34m.\u001b[0m\u001b[0mraw_decode\u001b[0m\u001b[0;34m(\u001b[0m\u001b[0ms\u001b[0m\u001b[0;34m,\u001b[0m \u001b[0midx\u001b[0m\u001b[0;34m=\u001b[0m\u001b[0m_w\u001b[0m\u001b[0;34m(\u001b[0m\u001b[0ms\u001b[0m\u001b[0;34m,\u001b[0m \u001b[0;36m0\u001b[0m\u001b[0;34m)\u001b[0m\u001b[0;34m.\u001b[0m\u001b[0mend\u001b[0m\u001b[0;34m(\u001b[0m\u001b[0;34m)\u001b[0m\u001b[0;34m)\u001b[0m\u001b[0;34m\u001b[0m\u001b[0m\n\u001b[0m\u001b[1;32m    344\u001b[0m         \u001b[0mend\u001b[0m \u001b[0;34m=\u001b[0m \u001b[0m_w\u001b[0m\u001b[0;34m(\u001b[0m\u001b[0ms\u001b[0m\u001b[0;34m,\u001b[0m \u001b[0mend\u001b[0m\u001b[0;34m)\u001b[0m\u001b[0;34m.\u001b[0m\u001b[0mend\u001b[0m\u001b[0;34m(\u001b[0m\u001b[0;34m)\u001b[0m\u001b[0;34m\u001b[0m\u001b[0m\n\u001b[1;32m    345\u001b[0m         \u001b[0;32mif\u001b[0m \u001b[0mend\u001b[0m \u001b[0;34m!=\u001b[0m \u001b[0mlen\u001b[0m\u001b[0;34m(\u001b[0m\u001b[0ms\u001b[0m\u001b[0;34m)\u001b[0m\u001b[0;34m:\u001b[0m\u001b[0;34m\u001b[0m\u001b[0m\n",
      "\u001b[0;32m/usr/lib/python3.4/json/decoder.py\u001b[0m in \u001b[0;36mraw_decode\u001b[0;34m(self, s, idx)\u001b[0m\n\u001b[1;32m    359\u001b[0m             \u001b[0mobj\u001b[0m\u001b[0;34m,\u001b[0m \u001b[0mend\u001b[0m \u001b[0;34m=\u001b[0m \u001b[0mself\u001b[0m\u001b[0;34m.\u001b[0m\u001b[0mscan_once\u001b[0m\u001b[0;34m(\u001b[0m\u001b[0ms\u001b[0m\u001b[0;34m,\u001b[0m \u001b[0midx\u001b[0m\u001b[0;34m)\u001b[0m\u001b[0;34m\u001b[0m\u001b[0m\n\u001b[1;32m    360\u001b[0m         \u001b[0;32mexcept\u001b[0m \u001b[0mStopIteration\u001b[0m \u001b[0;32mas\u001b[0m \u001b[0merr\u001b[0m\u001b[0;34m:\u001b[0m\u001b[0;34m\u001b[0m\u001b[0m\n\u001b[0;32m--> 361\u001b[0;31m             \u001b[0;32mraise\u001b[0m \u001b[0mValueError\u001b[0m\u001b[0;34m(\u001b[0m\u001b[0merrmsg\u001b[0m\u001b[0;34m(\u001b[0m\u001b[0;34m\"Expecting value\"\u001b[0m\u001b[0;34m,\u001b[0m \u001b[0ms\u001b[0m\u001b[0;34m,\u001b[0m \u001b[0merr\u001b[0m\u001b[0;34m.\u001b[0m\u001b[0mvalue\u001b[0m\u001b[0;34m)\u001b[0m\u001b[0;34m)\u001b[0m \u001b[0;32mfrom\u001b[0m \u001b[0;32mNone\u001b[0m\u001b[0;34m\u001b[0m\u001b[0m\n\u001b[0m\u001b[1;32m    362\u001b[0m         \u001b[0;32mreturn\u001b[0m \u001b[0mobj\u001b[0m\u001b[0;34m,\u001b[0m \u001b[0mend\u001b[0m\u001b[0;34m\u001b[0m\u001b[0m\n",
      "\u001b[0;31mValueError\u001b[0m: Expecting value: line 1 column 1 (char 0)"
     ]
    }
   ],
   "source": [
    "with open(filepath, 'r') as fh:\n",
    "    data = json.load(fh)"
   ]
  },
  {
   "cell_type": "code",
   "execution_count": null,
   "metadata": {
    "collapsed": false
   },
   "outputs": [],
   "source": [
    "logger.debug(data.keys())\n",
    "logger.debug(data[CRS])\n",
    "logger.debug(data[FEATURES][FIRST][GEOMETRY])"
   ]
  }
 ],
 "metadata": {
  "kernelspec": {
   "display_name": "Python 3",
   "language": "python",
   "name": "python3"
  },
  "language_info": {
   "codemirror_mode": {
    "name": "ipython",
    "version": 3
   },
   "file_extension": ".py",
   "mimetype": "text/x-python",
   "name": "python",
   "nbconvert_exporter": "python",
   "pygments_lexer": "ipython3",
   "version": "3.4.3"
  }
 },
 "nbformat": 4,
 "nbformat_minor": 0
}
