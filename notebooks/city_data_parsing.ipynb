{
 "cells": [
  {
   "cell_type": "code",
   "execution_count": 1020,
   "metadata": {
    "collapsed": true
   },
   "outputs": [],
   "source": [
    "import os\n",
    "import json\n",
    "import logging\n",
    "import random\n",
    "from datetime import datetime\n",
    "from itertools import chain"
   ]
  },
  {
   "cell_type": "code",
   "execution_count": 1021,
   "metadata": {
    "collapsed": false
   },
   "outputs": [
    {
     "name": "stderr",
     "output_type": "stream",
     "text": [
      "The logger is working.\n"
     ]
    }
   ],
   "source": [
    "logger = logging.getLogger(__name__)\n",
    "# supercedes handler level\n",
    "# if this level is lower than handler messages don't get through\n",
    "logger.setLevel(logging.DEBUG)\n",
    "\n",
    "# seems IPthon adds a stream handler. Might as well use it.\n",
    "stream_handler = logger.handlers.pop(0) \\\n",
    "    if logger.handlers else logging.StreamHandler()\n",
    "stream_handler.setLevel(logging.DEBUG)\n",
    "logger.addHandler(stream_handler)\n",
    "logger.debug(\"The logger is working.\")"
   ]
  },
  {
   "cell_type": "code",
   "execution_count": 1022,
   "metadata": {
    "collapsed": true
   },
   "outputs": [],
   "source": [
    "DEFAULT_ICON = 'star'"
   ]
  },
  {
   "cell_type": "code",
   "execution_count": 1023,
   "metadata": {
    "collapsed": false
   },
   "outputs": [],
   "source": [
    "# data did not have headers so was replaced\n",
    "read_filepath = \"./city-data/Citation-rows.json\""
   ]
  },
  {
   "cell_type": "code",
   "execution_count": 1024,
   "metadata": {
    "collapsed": false
   },
   "outputs": [],
   "source": [
    "read_filepath = \"./city-data/CitationData.json\"\n",
    "assert os.path.exists(read_filepath)"
   ]
  },
  {
   "cell_type": "code",
   "execution_count": 1025,
   "metadata": {
    "collapsed": true
   },
   "outputs": [],
   "source": [
    "with open(read_filepath, 'r') as fh:\n",
    "    data = json.load(fh)"
   ]
  },
  {
   "cell_type": "code",
   "execution_count": 1063,
   "metadata": {
    "collapsed": true
   },
   "outputs": [],
   "source": [
    "(\n",
    "    FIRST,\n",
    "    LAST,\n",
    "    GEO,\n",
    "    LAT,\n",
    "    LNG,\n",
    "    CITATION,\n",
    "    DATETIME,\n",
    ") = (\n",
    "    0,\n",
    "    -1,\n",
    "    -3,\n",
    "    'geox',\n",
    "    'geoy',\n",
    "    11,\n",
    "    12,\n",
    ")"
   ]
  },
  {
   "cell_type": "code",
   "execution_count": 1064,
   "metadata": {
    "collapsed": false
   },
   "outputs": [],
   "source": [
    "(\n",
    "    META, \n",
    "    DATA,\n",
    "    VIEW,\n",
    "    COLUMNS,\n",
    "    NAME,\n",
    ") = (\n",
    "    'meta', \n",
    "    'data', \n",
    "    'view',\n",
    "    'columns',\n",
    "    'name',\n",
    ")"
   ]
  },
  {
   "cell_type": "code",
   "execution_count": 1065,
   "metadata": {
    "collapsed": false
   },
   "outputs": [],
   "source": [
    "data_rows = data[DATA]\n",
    "meta = data[META]"
   ]
  },
  {
   "cell_type": "code",
   "execution_count": 1066,
   "metadata": {
    "collapsed": false
   },
   "outputs": [],
   "source": [
    "one_sample = data_rows[FIRST:1]"
   ]
  },
  {
   "cell_type": "code",
   "execution_count": 1067,
   "metadata": {
    "collapsed": false
   },
   "outputs": [
    {
     "data": {
      "text/plain": [
       "[[113005,\n",
       "  '9694AD77-E0F0-4DED-A92D-68DA00B5814F',\n",
       "  113005,\n",
       "  1466148038,\n",
       "  '910237',\n",
       "  1466148038,\n",
       "  '910237',\n",
       "  None,\n",
       "  'A23DH0P',\n",
       "  'FLPD',\n",
       "  'FORT LAUDERDALE POLICE DEPARTMENT',\n",
       "  'FAIL WEAR SAFETY BELT/OPERATOR',\n",
       "  '2016-06-14T00:00:00',\n",
       "  '1029',\n",
       "  '300',\n",
       "  None,\n",
       "  'NE 16TH ST',\n",
       "  None,\n",
       "  'FORT LAUDERDALE',\n",
       "  '26.1474933624268',\n",
       "  '-80.1417388916016',\n",
       "  None,\n",
       "  'B',\n",
       "  'F',\n",
       "  '44',\n",
       "  'N',\n",
       "  None,\n",
       "  'MAIL',\n",
       "  'SEE MAILER / MUST COMPLY WITHIN 30 DAYS',\n",
       "  '2016-07-15T00:00:00',\n",
       "  None,\n",
       "  'OPB',\n",
       "  'OPSD',\n",
       "  'TRAF',\n",
       "  'FL02',\n",
       "  None,\n",
       "  None,\n",
       "  '3450',\n",
       "  'FT LAUDERDALE ZONE 50',\n",
       "  '34',\n",
       "  'FORT LAUDERDALE',\n",
       "  '34F4',\n",
       "  '212',\n",
       "  '34BC',\n",
       "  'SOUTH MIDDLE RIVER CIVIC ASSOC',\n",
       "  None,\n",
       "  None,\n",
       "  None,\n",
       "  '0',\n",
       "  '1',\n",
       "  ['{\"address\":\"\",\"city\":\"\",\"state\":\"\",\"zip\":\"\"}',\n",
       "   '26.1474933624268',\n",
       "   '-80.1417388916016',\n",
       "   None,\n",
       "   False],\n",
       "  'False',\n",
       "  'False']]"
      ]
     },
     "execution_count": 1067,
     "metadata": {},
     "output_type": "execute_result"
    }
   ],
   "source": [
    "one_sample"
   ]
  },
  {
   "cell_type": "code",
   "execution_count": 1068,
   "metadata": {
    "collapsed": false
   },
   "outputs": [],
   "source": [
    "columns = [item[NAME] for item in meta[VIEW][COLUMNS]]"
   ]
  },
  {
   "cell_type": "code",
   "execution_count": 1112,
   "metadata": {
    "collapsed": false
   },
   "outputs": [],
   "source": [
    "# make dicts\n",
    "data_rows = [dict(zip(columns, data_row)) for data_row in data_rows]"
   ]
  },
  {
   "cell_type": "code",
   "execution_count": 1069,
   "metadata": {
    "collapsed": false
   },
   "outputs": [
    {
     "name": "stderr",
     "output_type": "stream",
     "text": [
      "['sid', 'id', 'position', 'created_at', 'created_meta', 'updated_at', 'updated_meta', 'meta', 'Citation Number', 'Police Agency Code', 'Police Agency Name', 'Citation Charge', 'Date Occurred', 'Time Entered', 'Street Number', 'Street Direction', 'Street Name', 'Apartment/Floor', 'city', 'geox', 'geoy', 'Case Number', 'Race Code', 'Sex Code', 'age', 'Ethnicity Code', 'Residence Code', 'Court Code', 'Court Name', 'Court Date/Time', 'Court Address', 'Employee Unit Code', 'Employee Division Code', 'Employee Section Code', 'Employee Shift Code', 'tract', 'Tract Description', 'Zone Code', 'Zone Description', 'District Code', 'District Description', 'Reporting Area Code', 'Reporting Area Desc.', 'Neighborhood Code', 'Neighborhood Description', 'Subdivision Code', 'Subdivision Description', 'Detection Device', 'speed', 'Citation Delivered to Person', 'location', 'Crash', 'Driving with Unlawful Blood Alcohol Level']\n"
     ]
    }
   ],
   "source": [
    "logger.debug(columns)"
   ]
  },
  {
   "cell_type": "code",
   "execution_count": 1070,
   "metadata": {
    "collapsed": false
   },
   "outputs": [
    {
     "name": "stderr",
     "output_type": "stream",
     "text": [
      "[{'tract': None, 'age': '44', 'Citation Delivered to Person': '1', 'updated_at': 1466148038, 'updated_meta': '910237', 'Tract Description': None, 'Employee Division Code': 'OPSD', 'Apartment/Floor': None, 'Citation Number': 'A23DH0P', 'Employee Section Code': 'TRAF', 'geox': '26.1474933624268', 'Race Code': 'B', 'Court Name': 'SEE MAILER / MUST COMPLY WITHIN 30 DAYS', 'Case Number': None, 'District Code': '34', 'geoy': '-80.1417388916016', 'District Description': 'FORT LAUDERDALE', 'sid': 113005, 'Zone Code': '3450', 'Sex Code': 'F', 'Driving with Unlawful Blood Alcohol Level': 'False', 'Court Date/Time': '2016-07-15T00:00:00', 'Police Agency Code': 'FLPD', 'Ethnicity Code': 'N', 'Citation Charge': 'FAIL WEAR SAFETY BELT/OPERATOR', 'Employee Shift Code': 'FL02', 'Subdivision Code': None, 'Neighborhood Description': 'SOUTH MIDDLE RIVER CIVIC ASSOC', 'location': ['{\"address\":\"\",\"city\":\"\",\"state\":\"\",\"zip\":\"\"}', '26.1474933624268', '-80.1417388916016', None, False], 'created_meta': '910237', 'Street Direction': None, 'city': 'FORT LAUDERDALE', 'Time Entered': '1029', 'created_at': 1466148038, 'Police Agency Name': 'FORT LAUDERDALE POLICE DEPARTMENT', 'Street Name': 'NE 16TH ST', 'meta': None, 'id': '9694AD77-E0F0-4DED-A92D-68DA00B5814F', 'Zone Description': 'FT LAUDERDALE ZONE 50', 'speed': '0', 'Court Address': None, 'Street Number': '300', 'Reporting Area Code': '34F4', 'Crash': 'False', 'position': 113005, 'Reporting Area Desc.': '212', 'Court Code': 'MAIL', 'Residence Code': None, 'Employee Unit Code': 'OPB', 'Date Occurred': '2016-06-14T00:00:00', 'Detection Device': None, 'Neighborhood Code': '34BC', 'Subdivision Description': None}]\n"
     ]
    }
   ],
   "source": [
    "assert len(one_sample[FIRST]) == len(columns)\n",
    "one_sample = [dict(zip(columns, datum)) for datum in one_sample]\n",
    "logger.debug(one_sample)"
   ]
  },
  {
   "cell_type": "code",
   "execution_count": 1101,
   "metadata": {
    "collapsed": false
   },
   "outputs": [],
   "source": [
    "(\n",
    "    DATEOCCURRED,\n",
    "    CITATIONCHARGE,\n",
    "    AGE,\n",
    ") = (\n",
    "    'Date Occurred',\n",
    "    'Citation Charge',\n",
    "    'age',\n",
    ")"
   ]
  },
  {
   "cell_type": "code",
   "execution_count": 1102,
   "metadata": {
    "collapsed": false
   },
   "outputs": [
    {
     "name": "stderr",
     "output_type": "stream",
     "text": [
      "geoy\n"
     ]
    }
   ],
   "source": [
    "logger.debug(LNG)"
   ]
  },
  {
   "cell_type": "code",
   "execution_count": 1103,
   "metadata": {
    "collapsed": false
   },
   "outputs": [
    {
     "name": "stderr",
     "output_type": "stream",
     "text": [
      "[(-80.1417388916016, 26.1474933624268)]\n"
     ]
    }
   ],
   "source": [
    "lngs_lats = [tuple(float(num) for num in (datum[LNG], datum[LAT])) for datum in one_sample]\n",
    "logger.debug(lngs_lats)"
   ]
  },
  {
   "cell_type": "code",
   "execution_count": 1104,
   "metadata": {
    "collapsed": false
   },
   "outputs": [
    {
     "name": "stderr",
     "output_type": "stream",
     "text": [
      "['2016-06-14T00:00:00']\n"
     ]
    }
   ],
   "source": [
    "times = [datum[DATEOCCURRED] for datum in one_sample]\n",
    "logger.debug(times)"
   ]
  },
  {
   "cell_type": "code",
   "execution_count": 1113,
   "metadata": {
    "collapsed": false
   },
   "outputs": [
    {
     "name": "stderr",
     "output_type": "stream",
     "text": [
      "['FAIL WEAR SAFETY BELT/OPERATOR']\n"
     ]
    }
   ],
   "source": [
    "citations = [datum[CITATIONCHARGE] for datum in one_sample]\n",
    "logger.debug(citations)"
   ]
  },
  {
   "cell_type": "code",
   "execution_count": 1140,
   "metadata": {
    "collapsed": false
   },
   "outputs": [
    {
     "name": "stderr",
     "output_type": "stream",
     "text": [
      "3\n"
     ]
    }
   ],
   "source": [
    "ages = [int(datum[AGE]) for datum in data_rows \n",
    "                  if all((\n",
    "                            all((datum[AGE] != item for item in ['BB', 'NB'])), \n",
    "                            datum[AGE]\n",
    "                        ))\n",
    "       ]\n",
    "correct_ages = [datum for datum in data_rows \n",
    "                  if all((\n",
    "                            all((datum[AGE] != item for item in ['BB', 'NB'])), \n",
    "                            datum[AGE],\n",
    "                    ))\n",
    "               ]\n",
    "minimal = min(ages)\n",
    "logger.debug(minimal)"
   ]
  },
  {
   "cell_type": "code",
   "execution_count": 1139,
   "metadata": {
    "collapsed": false
   },
   "outputs": [
    {
     "data": {
      "text/plain": [
       "2"
      ]
     },
     "execution_count": 1139,
     "metadata": {},
     "output_type": "execute_result"
    }
   ],
   "source": [
    "len([datum for datum in correct_ages if int(datum[AGE]) == minimal])"
   ]
  },
  {
   "cell_type": "code",
   "execution_count": null,
   "metadata": {
    "collapsed": false
   },
   "outputs": [],
   "source": [
    "needle_list = (\n",
    "     SCHOOL,\n",
    "     STOP,\n",
    "     CROSSWALK,\n",
    "     BIKE,\n",
    ") = (\n",
    "    'school',\n",
    "    'stop',\n",
    "    'crosswalk',\n",
    "    'bike',\n",
    ")"
   ]
  },
  {
   "cell_type": "code",
   "execution_count": null,
   "metadata": {
    "collapsed": false
   },
   "outputs": [],
   "source": [
    "features = [\n",
    "    {\n",
    "        'geometry': {\n",
    "            'coordinates': [\n",
    "            float(lng), \n",
    "            float(lat)], \n",
    "            'type': 'Point', \n",
    "        'properties': {\n",
    "            'icon': DEFAULT_ICON, \n",
    "            'title': str(citation.lower())}, \n",
    "            'type': 'Feature'}\n",
    "    }\n",
    "    for citation, (lng, lat) in zip(citations, lngs_lats) \n",
    "    if all ((\n",
    "            lng, \n",
    "            lat, \n",
    "            citation,\n",
    "            all((\n",
    "              BIKE in str(citation).lower(),\n",
    "            ))\n",
    "        ))]"
   ]
  },
  {
   "cell_type": "code",
   "execution_count": null,
   "metadata": {
    "collapsed": false
   },
   "outputs": [],
   "source": [
    "DEFAULT_ICON = 'star'"
   ]
  },
  {
   "cell_type": "code",
   "execution_count": null,
   "metadata": {
    "collapsed": false
   },
   "outputs": [],
   "source": [
    "# example rendered features list of len 1\n",
    "[\n",
    "    {\n",
    "        'geometry': \n",
    "         {\n",
    "            'coordinates': (-58.276737496862296, 31.86743706380791), \n",
    "            'type': 'Point'\n",
    "        }, \n",
    "        # the properties value is accessible in certain MapBox GL JS layers\n",
    "        'properties': {\n",
    "            'icon': 'star', \n",
    "            'title': 'White, Nicholson and Boyle'}, \n",
    "            'type': 'Feature'\n",
    "    },\n",
    "]"
   ]
  },
  {
   "cell_type": "code",
   "execution_count": null,
   "metadata": {
    "collapsed": true
   },
   "outputs": [],
   "source": [
    "(\n",
    "    FEATURECOLLECTION,\n",
    "    TYPE,\n",
    "    CRS,\n",
    "    NAME,\n",
    "    FEATURE,\n",
    "    FEATURES,\n",
    "    EMPLOYEE,\n",
    "    PROPERTIES,\n",
    "    GEOMETRY,\n",
    "    TITLE,\n",
    "    ICON,\n",
    "    POINT,\n",
    ") = (\n",
    "    'FeatureCollection',\n",
    "    'type',\n",
    "    'crs',\n",
    "    'name',\n",
    "    'feature'.title(),  # easier to notice, must be title\n",
    "    'features',\n",
    "    'employee',\n",
    "    'properties',\n",
    "    'geometry',\n",
    "    'title',\n",
    "    'icon',\n",
    "    'Point',\n",
    ")\n",
    "# I have no idea what this value means yet.\n",
    "CRS_DEFAULT = \"urn:ogc:def:crs:OGC:1.3:CRS84\""
   ]
  },
  {
   "cell_type": "code",
   "execution_count": null,
   "metadata": {
    "collapsed": false
   },
   "outputs": [],
   "source": [
    "# example rendered features list of len 1\n",
    "[\n",
    "    {\n",
    "        'geometry': \n",
    "         {\n",
    "            'coordinates': (-58.276737496862296, 31.86743706380791), \n",
    "            'type': 'Point'\n",
    "        }, \n",
    "        # the properties value is accessible in certain MapBox GL JS layers\n",
    "        'properties': {\n",
    "            'icon': 'star', \n",
    "            'title': 'White, Nicholson and Boyle'}, \n",
    "            'type': 'Feature'\n",
    "    },\n",
    "]"
   ]
  },
  {
   "cell_type": "code",
   "execution_count": null,
   "metadata": {
    "collapsed": true
   },
   "outputs": [],
   "source": [
    "# here for reference\n",
    "full_geojson_template = {\n",
    "    TYPE: FEATURECOLLECTION,\n",
    "    CRS: {\n",
    "        TYPE: NAME, \n",
    "        PROPERTIES: {\n",
    "            NAME: CRS_DEFAULT,\n",
    "        }\n",
    "    },\n",
    "    FEATURES: [],\n",
    "}"
   ]
  },
  {
   "cell_type": "code",
   "execution_count": null,
   "metadata": {
    "collapsed": false
   },
   "outputs": [],
   "source": [
    "data_points = {\n",
    "    TYPE: FEATURECOLLECTION, \n",
    "    FEATURES: features,\n",
    "    CRS: {\n",
    "            TYPE: NAME, \n",
    "            PROPERTIES: {\n",
    "            NAME: CRS_DEFAULT\n",
    "        }\n",
    "    }  \n",
    "}"
   ]
  },
  {
   "cell_type": "code",
   "execution_count": null,
   "metadata": {
    "collapsed": false
   },
   "outputs": [],
   "source": [
    "data_points[FEATURES][FIRST]"
   ]
  },
  {
   "cell_type": "code",
   "execution_count": null,
   "metadata": {
    "collapsed": true
   },
   "outputs": [],
   "source": [
    "# make it a variable\n",
    "data = ''.join(('geoJsonData = ', json.dumps(data_points)))"
   ]
  },
  {
   "cell_type": "code",
   "execution_count": null,
   "metadata": {
    "collapsed": false
   },
   "outputs": [],
   "source": [
    "filepath = '/home/dmmmd/Dropbox/fll-hackathon/notebooks/flask-app/coffee/citations.coffee'\n",
    "with open(filepath, 'w') as fh:\n",
    "    fh.write(data)"
   ]
  },
  {
   "cell_type": "code",
   "execution_count": null,
   "metadata": {
    "collapsed": false
   },
   "outputs": [],
   "source": [
    "filepath = '/home/dmmmd/Dropbox/fll-hackathon/notebooks/flask-app/coffee/citations_data.coffee'\n",
    "with open(filepath, 'w') as fh:\n",
    "    fh.write(data)"
   ]
  }
 ],
 "metadata": {
  "kernelspec": {
   "display_name": "Python 3",
   "language": "python",
   "name": "python3"
  },
  "language_info": {
   "codemirror_mode": {
    "name": "ipython",
    "version": 3
   },
   "file_extension": ".py",
   "mimetype": "text/x-python",
   "name": "python",
   "nbconvert_exporter": "python",
   "pygments_lexer": "ipython3",
   "version": "3.4.3"
  }
 },
 "nbformat": 4,
 "nbformat_minor": 0
}
